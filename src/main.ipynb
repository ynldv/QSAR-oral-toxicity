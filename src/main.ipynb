{
  "nbformat": 4,
  "nbformat_minor": 0,
  "metadata": {
    "colab": {
      "name": "Perso.ipynb",
      "provenance": [],
      "collapsed_sections": []
    },
    "kernelspec": {
      "name": "python3",
      "display_name": "Python 3"
    }
  },
  "cells": [
    {
      "cell_type": "code",
      "metadata": {
        "id": "tPPimqIc9LIt",
        "colab_type": "code",
        "colab": {}
      },
      "source": [
        "!pip3 list "
      ],
      "execution_count": null,
      "outputs": []
    },
    {
      "cell_type": "code",
      "metadata": {
        "id": "EfkscGY88zvn",
        "colab_type": "code",
        "colab": {
          "base_uri": "https://localhost:8080/",
          "height": 173
        },
        "outputId": "04ea8345-577a-4efd-c7b0-fa904d28a430"
      },
      "source": [
        "import pandas as pd\n",
        "import numpy as np\n",
        "import seaborn as sns\n",
        "import sklearn as sk\n",
        "import matplotlib.pyplot as plt\n",
        "import scipy as scp\n",
        "\n",
        "from imblearn.over_sampling import SMOTE\n",
        "from imblearn.under_sampling import RandomUnderSampler\n",
        "from imblearn.metrics import sensitivity_score\n",
        "\n",
        "from scipy.io import loadmat\n",
        "from scipy.cluster import hierarchy\n",
        "from scipy.spatial import distance_matrix\n",
        "from scipy.spatial.distance import cdist\n",
        "\n",
        "from sklearn.neighbors import KNeighborsClassifier\n",
        "from sklearn.base import BaseEstimator, MetaEstimatorMixin\n",
        "from sklearn.cluster import AgglomerativeClustering, KMeans\n",
        "from sklearn.decomposition import PCA\n",
        "from sklearn.discriminant_analysis import QuadraticDiscriminantAnalysis, LinearDiscriminantAnalysis\n",
        "from sklearn.ensemble import BaggingClassifier\n",
        "from sklearn.linear_model import LogisticRegression\n",
        "from sklearn.manifold import MDS, TSNE\n",
        "from sklearn.metrics import classification_report, accuracy_score, confusion_matrix, recall_score, plot_confusion_matrix, make_scorer, roc_curve, plot_roc_curve\n",
        "from sklearn.model_selection import train_test_split, cross_val_score, KFold, GridSearchCV, cross_validate\n",
        "from sklearn.naive_bayes import BernoulliNB, GaussianNB\n",
        "from sklearn.preprocessing import StandardScaler\n",
        "from sklearn.tree import DecisionTreeClassifier\n",
        "from sklearn.utils import check_X_y\n",
        "from sklearn.utils.class_weight import compute_class_weight\n",
        "\n",
        "from mpl_toolkits.mplot3d import Axes3D"
      ],
      "execution_count": null,
      "outputs": [
        {
          "output_type": "stream",
          "text": [
            "/usr/local/lib/python3.6/dist-packages/statsmodels/tools/_testing.py:19: FutureWarning: pandas.util.testing is deprecated. Use the functions in the public API at pandas.testing instead.\n",
            "  import pandas.util.testing as tm\n",
            "/usr/local/lib/python3.6/dist-packages/sklearn/externals/six.py:31: FutureWarning: The module is deprecated in version 0.21 and will be removed in version 0.23 since we've dropped support for Python 2.7. Please rely on the official version of six (https://pypi.org/project/six/).\n",
            "  \"(https://pypi.org/project/six/).\", FutureWarning)\n",
            "/usr/local/lib/python3.6/dist-packages/sklearn/utils/deprecation.py:144: FutureWarning: The sklearn.neighbors.base module is  deprecated in version 0.22 and will be removed in version 0.24. The corresponding classes / functions should instead be imported from sklearn.neighbors. Anything that cannot be imported from sklearn.neighbors is now part of the private API.\n",
            "  warnings.warn(message, FutureWarning)\n",
            "/usr/local/lib/python3.6/dist-packages/sklearn/utils/deprecation.py:144: FutureWarning: The sklearn.metrics.classification module is  deprecated in version 0.22 and will be removed in version 0.24. The corresponding classes / functions should instead be imported from sklearn.metrics. Anything that cannot be imported from sklearn.metrics is now part of the private API.\n",
            "  warnings.warn(message, FutureWarning)\n"
          ],
          "name": "stderr"
        }
      ]
    },
    {
      "cell_type": "code",
      "metadata": {
        "id": "F5eNvqdbFMcm",
        "colab_type": "code",
        "colab": {}
      },
      "source": [
        "def main():\n",
        "  df = pd.read_csv('qsar_oral_toxicity.csv', sep=';', header=None)\n",
        "  #df = pd.read_csv('qsar_oral_toxicity_reduce.csv', sep=',')\n",
        "  #df = df.drop(columns=['Unnamed: 0'])\n",
        "  dfw = df.iloc[:,:1024]\n",
        "\n",
        "  #res = ACPwCorr(df)\n",
        "  #TSNE2(df,2)\n",
        "  ACP(df,.95)\n",
        "  #KMEAN(res,4,'random')\n",
        "\n",
        "  # X = list()\n",
        "  # for i in range(25):\n",
        "  #   x = np.random.choice(8890,100)\n",
        "  #   tmp = df2.iloc[x,:]\n",
        "  #   X.append(tmp)\n",
        "\n",
        "  # list_DF = list()\n",
        "  # for i in X:\n",
        "  #   tmp = i.iloc[:,:1024]\n",
        "  #   list_DF.append(pd.DataFrame(distance_matrix(tmp.values, tmp.values), index=tmp.index, columns=tmp.index))\n",
        "\n",
        "  # for i in list_DF:\n",
        "  #   x = AFTD(i,2)\n",
        "  #   KMEAN(x,2,'random')\n",
        "\n",
        "\n",
        "\n",
        "\n",
        "\n",
        "main()"
      ],
      "execution_count": null,
      "outputs": []
    },
    {
      "cell_type": "markdown",
      "metadata": {
        "id": "ID51tsWS8xF8",
        "colab_type": "text"
      },
      "source": [
        "Tentative d'ACP avec une matrice réduite des colonnes avec une correlation >.9"
      ]
    },
    {
      "cell_type": "code",
      "metadata": {
        "id": "a78QPjU88Jp-",
        "colab_type": "code",
        "colab": {}
      },
      "source": [
        " def ACPwCorr(df):\n",
        "    dfw = df.iloc[:,:1024]\n",
        "    corr = dfw.corr()\n",
        "    print(corr)\n",
        "    Y = list()\n",
        "    for i in range(1024):\n",
        "      for j in range(i):\n",
        "        if abs(corr.iloc[i,j]) > .9 and i != j:\n",
        "          if i not in Y:\n",
        "            Y.append(i)\n",
        "          if j not in Y:\n",
        "            Y.append(j)\n",
        "\n",
        "    Y.sort()\n",
        "    df2 = dfw.iloc[:,Y]\n",
        "    #df2['classe'] = df[df.index == Y,1024]\n",
        "    print(df2)\n",
        "\n",
        "    cp = ACP(df2,3)\n",
        "    sns.scatterplot(x=cp['Axe 1'], y=cp['Axe 2'], data=cp)\n",
        "    plt.show()\n",
        "    sns.scatterplot(x=cp['Axe 1'], y=cp['Axe 3'], hue=df[1024], data=cp)\n",
        "    plt.show()\n",
        "    sns.scatterplot(x=cp['Axe 2'], y=cp['Axe 3'], hue=df[1024], data=cp)\n",
        "    plt.show()\n",
        "    return cp"
      ],
      "execution_count": null,
      "outputs": []
    },
    {
      "cell_type": "markdown",
      "metadata": {
        "id": "GdmmetRZ9PgZ",
        "colab_type": "text"
      },
      "source": [
        "ACP"
      ]
    },
    {
      "cell_type": "code",
      "metadata": {
        "id": "fTvNZrXQ9MfZ",
        "colab_type": "code",
        "colab": {}
      },
      "source": [
        "def ACP(df, n):\n",
        "    dfw = df.iloc[:,:1024]\n",
        "    pca = PCA(n_components=n)\n",
        "    model = pca.fit_transform(dfw)\n",
        "    if n >= 1:\n",
        "      labels = ['Axe ' + str(i + 1) for i in range(n)]\n",
        "    else:\n",
        "      labels = ['Axe ' + str(i + 1) for i in range(model.shape[1])]\n",
        "\n",
        "    result = pd.DataFrame(data=model, columns=labels)\n",
        "\n",
        "    print('Axes principaux:')\n",
        "    print(pca.components_)\n",
        "\n",
        "    print('Composantes principales:')\n",
        "    print(model)\n",
        "\n",
        "    print('Pourcentage d\\'inerties expliquée par chaque axe:')\n",
        "    print(pca.explained_variance_ratio_)\n",
        "\n",
        "    print('Pourcentage cumulé:')\n",
        "    print(sum(pca.explained_variance_ratio_))\n",
        "\n",
        "    plt.figure(1, figsize=(10,10))\n",
        "    sns.barplot(x=labels, y=pca.explained_variance_ratio_).set_title('Pourcentage d\\'inerties expliquée par chaque axe')\n",
        "\n",
        "    if n == 2:\n",
        "         plt.figure(2)\n",
        "         sns.scatterplot(x='Axe 1', y='Axe 2',hue=df.iloc[:,1024], data=result).set_title('ACP')\n",
        "        \n",
        "\n",
        "    # if n == 3:\n",
        "    #     plt.figure(2)\n",
        "    #     sns.scatterplot(x='Axe 1', y='Axe 2',hue=df.iloc[:,1024], data=result).set_title('ACP')\n",
        "    #     plt.figure(3)\n",
        "    #     sns.scatterplot(x='Axe 1', y='Axe 3',hue=df.iloc[:,1024], data=result).set_title('ACP')\n",
        "    #     plt.figure(4)\n",
        "    #     sns.scatterplot(x='Axe 2', y='Axe 3',hue=df.iloc[:,1024], data=result).set_title('ACP')\n",
        "\n",
        "    plt.show()\n",
        "    return result"
      ],
      "execution_count": null,
      "outputs": []
    },
    {
      "cell_type": "markdown",
      "metadata": {
        "id": "65mcDf328uvM",
        "colab_type": "text"
      },
      "source": [
        "AFTD"
      ]
    },
    {
      "cell_type": "code",
      "metadata": {
        "id": "3GAwCZaC8QCh",
        "colab_type": "code",
        "colab": {}
      },
      "source": [
        "def AFTD(df, n):\n",
        "    aftd = MDS(n_components=n, dissimilarity='euclidean')\n",
        "    model = aftd.fit_transform(df)\n",
        "    labels = ['Axe ' + str(i + 1) for i in range(n)]\n",
        "\n",
        "    print('Stress:')\n",
        "    print(aftd.stress_)\n",
        "\n",
        "\n",
        "    X = pd.DataFrame(model, columns=labels)\n",
        "\n",
        "    if n == 2:\n",
        "        X = pd.DataFrame(model, columns=['Axe 1', 'Axe 2'])\n",
        "        plt.figure(1)\n",
        "        sns.scatterplot(x='Axe 1', y='Axe 2', hue=t[1024], data=X)\n",
        "\n",
        "    do, dn = plot_Shepard(aftd)\n",
        "    plt.show()\n",
        "\n",
        "    return X\n"
      ],
      "execution_count": null,
      "outputs": []
    },
    {
      "cell_type": "markdown",
      "metadata": {
        "id": "_I996o43ksQ9",
        "colab_type": "text"
      },
      "source": [
        "CAH"
      ]
    },
    {
      "cell_type": "code",
      "metadata": {
        "id": "R1Q6hs1IkvhT",
        "colab_type": "code",
        "colab": {}
      },
      "source": [
        "from sklearn.metrics.cluster import adjusted_rand_score\n",
        "\n",
        "df = pd.read_csv('qsar_oral_toxicity.csv', sep=';', header=None)\n",
        "\n",
        "X = df.iloc[:,:-1]\n",
        "Y = df.iloc[:,1024]\n",
        "\n",
        "for i in range(8992):\n",
        "  if df.iloc[i,1024] == 'negative':\n",
        "    df.iloc[i,1024] = 0\n",
        "  else:\n",
        "    df.iloc[i,1024] = 1\n",
        "\n",
        "\n",
        "#metrics = ['jaccard','matching','dice','kulsinski','rogerstanimoto','russellrao','sokalmichener','sokalsneath']\n",
        "metrics = ['euclidean','manhattan','hamming','minkowski','jaccard','dice','kulsinski']\n",
        "res = [] \n",
        "for i in metrics:\n",
        "  cls = AgglomerativeClustering(affinity=i, linkage='complete', n_clusters=2, distance_threshold=None)\n",
        "  cls.fit(X)\n",
        "  res.append((i,adjusted_rand_score(cls.labels_,Y)))\n",
        "\n",
        "newDF = pd.DataFrame(data=res, columns=['Metrics','Rand Score'])\n",
        "print(newDF)\n",
        "print(newDF.to_latex())\n"
      ],
      "execution_count": null,
      "outputs": []
    },
    {
      "cell_type": "markdown",
      "metadata": {
        "id": "GaPuJdg8-V8o",
        "colab_type": "text"
      },
      "source": [
        "TSNE"
      ]
    },
    {
      "cell_type": "code",
      "metadata": {
        "id": "sw9LOgCc9oeR",
        "colab_type": "code",
        "colab": {}
      },
      "source": [
        "def TSNE2(df,n):\n",
        "  dfw = df.iloc[:,:1024]\n",
        "  corr = dfw.corr()\n",
        "  Y = list()\n",
        "  for i in range(1024):\n",
        "    for j in range(i):\n",
        "      if abs(corr.iloc[i,j]) > .9 and i != j:\n",
        "        if i not in Y:\n",
        "          Y.append(i)\n",
        "        if j not in Y:\n",
        "          Y.append(j)\n",
        "  \n",
        "  Y.sort()\n",
        "  df2 = dfw.iloc[:,Y]\n",
        "\n",
        "  tsne = TSNE(n_components=n)\n",
        "  model = tsne.fit_transform(df2)\n",
        "  labels = ['Axe ' + str(i + 1) for i in range(n)]\n",
        "\n",
        "  result = pd.DataFrame(data=model, columns=labels)\n",
        "  print(result)\n",
        "\n",
        "  if n==2:\n",
        "    sns.scatterplot(x=result['Axe 1'], y=result['Axe 2'], hue=df[1024],data=result)\n",
        "    plt.show()\n",
        "  "
      ],
      "execution_count": null,
      "outputs": []
    },
    {
      "cell_type": "markdown",
      "metadata": {
        "id": "77cnPgBb8qQ7",
        "colab_type": "text"
      },
      "source": [
        "KMEAN"
      ]
    },
    {
      "cell_type": "code",
      "metadata": {
        "id": "Fv5AHJav8a1r",
        "colab_type": "code",
        "colab": {}
      },
      "source": [
        "def KMEAN(df, n, init):\n",
        "    km = KMeans(n_clusters=n, init=init).fit(df)\n",
        "    scatterplot_pca(columns=df.columns, hue=km.labels_, data=df)\n",
        "    plt.show()"
      ],
      "execution_count": null,
      "outputs": []
    },
    {
      "cell_type": "markdown",
      "metadata": {
        "id": "0rQPho6-8lku",
        "colab_type": "text"
      },
      "source": [
        "Autres"
      ]
    },
    {
      "cell_type": "code",
      "metadata": {
        "id": "Ksvb19R38cC5",
        "colab_type": "code",
        "colab": {}
      },
      "source": [
        "def plot_Shepard(mds_model, plot=True):\n",
        "    \"\"\"Affiche le diagramme de Shepard et retourne un couple contenant les\n",
        "    dissimilarités originales et les distances apprises par le\n",
        "    modèle.\n",
        "    \"\"\"\n",
        "\n",
        "    assert isinstance(mds_model, MDS)\n",
        "\n",
        "    # Inter-distances apprises\n",
        "    dist = cdist(mds_model.embedding_, mds_model.embedding_)\n",
        "    idxs = np.tril_indices_from(dist, k=-1)\n",
        "    dist_mds = dist[idxs]\n",
        "\n",
        "    # Inter-distances d'origine\n",
        "    dist = mds_model.dissimilarity_matrix_\n",
        "    dist_orig = dist[idxs]\n",
        "\n",
        "    dists = np.column_stack((dist_orig, dist_mds))\n",
        "\n",
        "    if plot:\n",
        "        f, ax = plt.subplots()\n",
        "        range = [dists.min(), dists.max()]\n",
        "        ax.plot(range, range, 'r--')\n",
        "        ax.scatter(*dists.T)\n",
        "        ax.set_xlabel('Dissimilarités')\n",
        "        ax.set_ylabel('Distances')\n",
        "\n",
        "    return (*dists.T,)\n",
        "\n",
        "def scatterplot_pca(columns=None, hue=None, style=None, data=None, pc1=1, pc2=2, **kwargs):\n",
        "    \"\"\"\n",
        "    Utilise `sns.scatterplot` en appliquant d'abord une ACP si besoin\n",
        "    pour réduire la dimension.\n",
        "    \"\"\"\n",
        "\n",
        "    # Select columns (should be numeric)\n",
        "    data_quant = data if columns is None else data[columns]\n",
        "    data_quant = data_quant.drop(\n",
        "        columns=[e for e in [hue, style] if e is not None], errors=\"ignore\"\n",
        "    )\n",
        "\n",
        "    # Reduce to two dimensions\n",
        "    if data_quant.shape[1] == 2:\n",
        "        data_pca = data_quant\n",
        "        pca = None\n",
        "    else:\n",
        "        n_components = max(pc1, pc2)\n",
        "        pca = PCA(n_components=n_components)\n",
        "        data_pca = pca.fit_transform(data_quant)\n",
        "        data_pca = pd.DataFrame(\n",
        "            data_pca[:, [pc1 - 1, pc2 - 1]], columns=[f\"PC{pc1}\", f\"PC{pc2}\"]\n",
        "        )\n",
        "\n",
        "    # Keep name, force categorical data for hue and steal index to\n",
        "    # avoid unwanted alignment\n",
        "    if isinstance(hue, pd.Series):\n",
        "        if not hue.name:\n",
        "            hue.name = \"hue\"\n",
        "        hue_name = hue.name\n",
        "    elif isinstance(hue, str):\n",
        "        hue_name = hue\n",
        "        hue = data[hue]\n",
        "    elif isinstance(hue, np.ndarray):\n",
        "        hue = pd.Series(hue, name=\"class\")\n",
        "        hue_name = \"class\"\n",
        "\n",
        "    hue = hue.astype(\"category\")\n",
        "    hue.index = data_pca.index\n",
        "    hue.name = hue_name\n",
        "\n",
        "    if isinstance(style, pd.Series):\n",
        "        if not style.name:\n",
        "            style.name = \"style\"\n",
        "        style_name = style.name\n",
        "    elif isinstance(style, str):\n",
        "        style_name = style\n",
        "        style = data[style]\n",
        "    elif isinstance(style, np.ndarray):\n",
        "        style = pd.Series(style, name=\"style\")\n",
        "        style_name = \"style\"\n",
        "\n",
        "    sp_kwargs = {}\n",
        "    full_data = data_pca\n",
        "    if hue is not None:\n",
        "        full_data = pd.concat((full_data, hue), axis=1)\n",
        "        sp_kwargs[\"hue\"] = hue_name\n",
        "    if style is not None:\n",
        "        full_data = pd.concat((full_data, style), axis=1)\n",
        "        sp_kwargs[\"style\"] = style_name\n",
        "\n",
        "    x, y = data_pca.columns\n",
        "    ax = sns.scatterplot(x=x, y=y, data=full_data, **sp_kwargs)\n",
        "\n",
        "    return ax, pca\n",
        "\n",
        "import numpy as np\n",
        "import matplotlib.pyplot as plt\n",
        "from scipy.cluster.hierarchy import dendrogram\n",
        "from sklearn.manifold import MDS\n",
        "from scipy.spatial.distance import cdist\n",
        "\n",
        "def plot_dendrogram(model, **kwargs):\n",
        "    # Create linkage matrix and then plot the dendrogram\n",
        "\n",
        "    # create the counts of samples under each node\n",
        "    counts = np.zeros(model.children_.shape[0])\n",
        "    n_samples = len(model.labels_)\n",
        "    for i, merge in enumerate(model.children_):\n",
        "        current_count = 0\n",
        "        for child_idx in merge:\n",
        "            if child_idx < n_samples:\n",
        "                current_count += 1  # leaf node\n",
        "            else:\n",
        "                current_count += counts[child_idx - n_samples]\n",
        "        counts[i] = current_count\n",
        "\n",
        "    linkage_matrix = np.column_stack([model.children_, model.distances_,\n",
        "                                      counts]).astype(float)\n",
        "\n",
        "    # Plot the corresponding dendrogram\n",
        "    default_kwargs = dict(leaf_font_size=10)\n",
        "    default_kwargs.update(kwargs or {})\n",
        "\n",
        "    dendrogram(linkage_matrix, **default_kwargs)\n",
        "\n",
        "\n",
        "\n",
        "def plot_clustering(data, clus1, clus2=None, ax=None, **kwargs):\n",
        "    \"\"\"Affiche les données `data` dans le premier plan principal.\n",
        "    \"\"\"\n",
        "\n",
        "    if ax is None:\n",
        "        ax = plt.gca()\n",
        "\n",
        "    other_kwargs = {e: kwargs.pop(e) for e in [\"centers\", \"covars\"] if e in kwargs}\n",
        "\n",
        "    ax, pca = scatterplot_pca(data=data, hue=clus1, style=clus2, ax=ax, **kwargs)\n",
        "\n",
        "    if \"centers\" in other_kwargs and \"covars\" in other_kwargs:\n",
        "        # Hack to get colors\n",
        "        # TODO use legend_out = True\n",
        "        levels = [str(l) for l in np.unique(clus1)]\n",
        "        hdls, labels = ax.get_legend_handles_labels()\n",
        "        colors = [\n",
        "            artist.get_facecolor().ravel()\n",
        "            for artist, label in zip(hdls, labels)\n",
        "            if label in levels\n",
        "        ]\n",
        "        colors = colors[: len(levels)]\n",
        "\n",
        "        if data.shape[1] == 2:\n",
        "            centers_2D = other_kwargs[\"centers\"]\n",
        "            covars_2D = other_kwargs[\"covars\"]\n",
        "        else:\n",
        "            centers_2D = pca.transform(other_kwargs[\"centers\"])\n",
        "            covars_2D = [\n",
        "                pca.components_ @ c @ pca.components_.T for c in other_kwargs[\"covars\"]\n",
        "            ]\n",
        "\n",
        "        p = 0.9\n",
        "        sig = norm.ppf(p ** (1 / 2))\n",
        "\n",
        "        for covar_2D, center_2D, color in zip(covars_2D, centers_2D, colors):\n",
        "            v, w = linalg.eigh(covar_2D)\n",
        "            v = 2.0 * sig * np.sqrt(v)\n",
        "\n",
        "            u = w[0] / linalg.norm(w[0])\n",
        "            if u[0] == 0:\n",
        "                angle = np.pi / 2\n",
        "            else:\n",
        "                angle = np.arctan(u[1] / u[0])\n",
        "\n",
        "            angle = 180.0 * angle / np.pi  # convert to degrees\n",
        "            ell = mpl.patches.Ellipse(center_2D, v[0], v[1], 180.0 + angle, color=color)\n",
        "            ell.set_clip_box(ax.bbox)\n",
        "            ell.set_alpha(0.5)\n",
        "            ax.add_artist(ell)\n",
        "\n",
        "    return ax, pca\n",
        "\n",
        "def add_decision_boundary(model, levels=None, resolution=1000, ax=None, label=None, color=None):\n",
        "    \"\"\"Trace une frontière de décision sur une figure existante.\n",
        "                    \n",
        "    La fonction utilise `model` pour prédire un score ou une classe\n",
        "    sur une grille de taille `resolution`x`resolution`. Une (ou\n",
        "    plusieurs frontières) sont ensuite tracées d'après le paramètre\n",
        "    `levels` qui fixe la valeur des lignes de niveaux recherchées.\n",
        "    \"\"\"\n",
        "    if ax is None:\n",
        "        ax = plt.gca()\n",
        "    if callable(model):\n",
        "        if levels is None:\n",
        "            levels = [0]\n",
        "        def predict(X):\n",
        "            return model(X)\n",
        "    else:\n",
        "        n_classes = len(model.classes_)\n",
        "        if n_classes == 2:\n",
        "            if hasattr(model, \"decision_function\"):\n",
        "                if levels is None:\n",
        "                    levels = [0]\n",
        "                def predict(X):\n",
        "                    return model.decision_function(X)\n",
        "            elif hasattr(model, \"predict_proba\"):\n",
        "                if levels is None:\n",
        "                    levels = [.5]\n",
        "                def predict(X):\n",
        "                    pred = model.predict_proba(X)\n",
        "                    if pred.shape[1] > 1:\n",
        "                        return pred[:, 0]\n",
        "                    else:\n",
        "                        return pred\n",
        "            elif hasattr(model, \"predict\"):\n",
        "                if levels is None:\n",
        "                    levels = [.5]\n",
        "                def predict(X):\n",
        "                    return model.predict(X)\n",
        "            else:\n",
        "                raise Exception(\"Modèle pas reconnu\")\n",
        "        else:\n",
        "            levels = np.arange(n_classes - 1) + .5\n",
        "            def predict(X):\n",
        "                pred = model.predict(X)\n",
        "                _, idxs = np.unique(pred, return_inverse=True)\n",
        "                return idxs\n",
        "    xlim = ax.get_xlim()\n",
        "    ylim = ax.get_ylim()\n",
        "    # Create grid to evaluate model\n",
        "    xx = np.linspace(xlim[0], xlim[1], resolution)\n",
        "    yy = np.linspace(ylim[0], ylim[1], resolution)\n",
        "    YY, XX = np.meshgrid(yy, xx)\n",
        "    xy = np.vstack([XX.ravel(), YY.ravel()]).T\n",
        "    Z = predict(xy).reshape(XX.shape)\n",
        "    color = \"red\" if color is None else color\n",
        "    sns.lineplot([0], [0], label=label, ax=ax, color=color, linestyle=\"dashed\")\n",
        "    ax.contour(\n",
        "        XX,\n",
        "        YY,\n",
        "        Z,\n",
        "        levels=levels,\n",
        "        colors=[color],\n",
        "        linestyles=\"dashed\",\n",
        "        antialiased=True,\n",
        "    )"
      ],
      "execution_count": null,
      "outputs": []
    },
    {
      "cell_type": "markdown",
      "metadata": {
        "id": "NDaXI3iifGYH",
        "colab_type": "text"
      },
      "source": [
        "KNN"
      ]
    },
    {
      "cell_type": "code",
      "metadata": {
        "id": "ycc2QGN9cXKF",
        "colab_type": "code",
        "colab": {
          "base_uri": "https://localhost:8080/",
          "height": 207
        },
        "outputId": "dc7acc9d-52cd-4dae-a52f-6e1300bc1fdd"
      },
      "source": [
        "df = pd.read_csv('qsar_oral_toxicity.csv', sep=';', header=None)\n",
        "\n",
        "X = df.iloc[:,:-1]\n",
        "#X = ACP(X,0.95)\n",
        "Y = df.iloc[:,1024]\n",
        "\n",
        "X_train, X_test, Y_train, Y_test = train_test_split(X,Y,test_size=0.25)\n",
        "\n",
        "classifier = KNeighborsClassifier(n_neighbors=10,metric='hamming')\n",
        "classifier.fit(X_train,Y_train)\n",
        "Y_pred = classifier.predict(X_test)\n",
        "print(classification_report(Y_test,Y_pred))\n",
        "\n",
        "'''\n",
        "Note that in binary classification, \n",
        "recall of the positive class is also known as “sensitivity”; \n",
        "recall of the negative class is “specificity”. \n",
        "sensitivity = true positive rate, specificity = true negative rate\n",
        "'''\n",
        "\n",
        "\n",
        "#plot_confusion_matrix(classifier,X_test,Y_test)\n",
        "#plt.show()\n"
      ],
      "execution_count": null,
      "outputs": [
        {
          "output_type": "stream",
          "text": [
            "              precision    recall  f1-score   support\n",
            "\n",
            "    negative       0.94      0.99      0.97      2057\n",
            "    positive       0.80      0.35      0.48       191\n",
            "\n",
            "    accuracy                           0.94      2248\n",
            "   macro avg       0.87      0.67      0.72      2248\n",
            "weighted avg       0.93      0.94      0.93      2248\n",
            "\n"
          ],
          "name": "stdout"
        },
        {
          "output_type": "execute_result",
          "data": {
            "text/plain": [
              "'\\nNote that in binary classification, \\nrecall of the positive class is also known as “sensitivity”; \\nrecall of the negative class is “specificity”. \\nsensitivity = true positive rate, specificity = true negative rate\\n'"
            ]
          },
          "metadata": {
            "tags": []
          },
          "execution_count": 11
        }
      ]
    },
    {
      "cell_type": "markdown",
      "metadata": {
        "id": "-6LLI2KS-xxO",
        "colab_type": "text"
      },
      "source": [
        "KNN cross validation"
      ]
    },
    {
      "cell_type": "code",
      "metadata": {
        "id": "Pf2G3C_DDpDy",
        "colab_type": "code",
        "colab": {
          "base_uri": "https://localhost:8080/",
          "height": 207
        },
        "outputId": "4a9822b1-e05d-4db1-b825-62833ff36d76"
      },
      "source": [
        "df = pd.read_csv('qsar_oral_toxicity.csv', sep=';', header=None)\n",
        "\n",
        "X = df.iloc[:,:-1]\n",
        "Y = df.iloc[:,1024]\n",
        "\n",
        "#Y.loc[Y == 'negative'] = 0\n",
        "#Y.loc[Y == 'positive'] = 1\n",
        "\n",
        "n_folds = 5\n",
        "res = knn_cross_validation(X,Y,n_folds,[5*(i+1) for i in range(20)])\n",
        "\n",
        "acc = [0 for i in range(20)]\n",
        "sensitivity = [0 for i in range(20)]\n",
        "label = [f'{5*(i+1)} voisins' for i in range(20)]\n",
        "for i in res:\n",
        "  cmp = 0\n",
        "  for j in i:\n",
        "    sensitivity[cmp] += j[1][0]\n",
        "    acc[cmp] += j[1][1]\n",
        "    cmp += 1\n",
        "\n",
        "sensitivity = [sensitivity[i]/5 for i in range(20)]\n",
        "acc = [acc[i]/5 for i in range(20)]\n",
        "\n",
        "for i in range(20):\n",
        "  print(f'Sensitivity for {5*(i+1)} neighbours : {sensitivity[i]}%')\n",
        "  print(f'Accuracy for {5*(i+1)} neighbours : {acc[i]}%')\n",
        "\n",
        "\n",
        "dic = {'sensitivity': sensitivity, 'accuracy': acc}\n",
        "newDf = pd.DataFrame(data=dic)\n",
        "sns.scatterplot(x='sensitivity', y='accuracy', data=newDf, hue=label)\n",
        "plt.show()    "
      ],
      "execution_count": null,
      "outputs": [
        {
          "output_type": "stream",
          "text": [
            "/usr/local/lib/python3.6/dist-packages/sklearn/utils/deprecation.py:87: FutureWarning: Function safe_indexing is deprecated; safe_indexing is deprecated in version 0.22 and will be removed in version 0.24.\n",
            "  warnings.warn(msg, category=FutureWarning)\n",
            "/usr/local/lib/python3.6/dist-packages/sklearn/utils/deprecation.py:87: FutureWarning: Function safe_indexing is deprecated; safe_indexing is deprecated in version 0.22 and will be removed in version 0.24.\n",
            "  warnings.warn(msg, category=FutureWarning)\n",
            "/usr/local/lib/python3.6/dist-packages/sklearn/utils/deprecation.py:87: FutureWarning: Function safe_indexing is deprecated; safe_indexing is deprecated in version 0.22 and will be removed in version 0.24.\n",
            "  warnings.warn(msg, category=FutureWarning)\n",
            "/usr/local/lib/python3.6/dist-packages/sklearn/utils/deprecation.py:87: FutureWarning: Function safe_indexing is deprecated; safe_indexing is deprecated in version 0.22 and will be removed in version 0.24.\n",
            "  warnings.warn(msg, category=FutureWarning)\n",
            "/usr/local/lib/python3.6/dist-packages/sklearn/utils/deprecation.py:87: FutureWarning: Function safe_indexing is deprecated; safe_indexing is deprecated in version 0.22 and will be removed in version 0.24.\n",
            "  warnings.warn(msg, category=FutureWarning)\n"
          ],
          "name": "stderr"
        }
      ]
    },
    {
      "cell_type": "markdown",
      "metadata": {
        "id": "Ngz0zsONpKre",
        "colab_type": "text"
      },
      "source": [
        "KNN find best k"
      ]
    },
    {
      "cell_type": "code",
      "metadata": {
        "id": "un---c9npNOD",
        "colab_type": "code",
        "colab": {}
      },
      "source": [
        "df = pd.read_csv('Neighbours _Accuracy_Sensitivity.txt', sep='\\s+')\n",
        "\n",
        "print(df)\n",
        "\n",
        "fig, ax = plt.subplots(2,1,figsize=(10,10))\n",
        "ax[0].plot(df['Neighbours'],df['Accuracy'],'x--')\n",
        "ax[0].set(xlabel='k', ylabel='accuracy')\n",
        "ax[0].set_xticks(np.arange(0, 100, step=5))\n",
        "\n",
        "ax[1].plot(df['Neighbours'],df['Sensitivity'],'x--')\n",
        "ax[1].set(xlabel='k', ylabel='sensitivity')\n",
        "ax[1].set_xticks(np.arange(0, 100, step=5))\n",
        "\n"
      ],
      "execution_count": null,
      "outputs": []
    },
    {
      "cell_type": "markdown",
      "metadata": {
        "id": "09G8FZGu8bgE",
        "colab_type": "text"
      },
      "source": [
        "KNN - GridSearchCV"
      ]
    },
    {
      "cell_type": "code",
      "metadata": {
        "id": "ErwzfSTZ8eb4",
        "colab_type": "code",
        "colab": {}
      },
      "source": [
        "df = pd.read_csv('qsar_oral_toxicity.csv', sep=';', header=None)\n",
        "\n",
        "X = df.iloc[:,:-1]\n",
        "Y = df.iloc[:,1024]\n",
        "\n",
        "X_train, X_test, Y_train, Y_test = train_test_split(X,Y,test_size=0.25)\n",
        "\n",
        "neighbors = [i for i in range(1,11)]\n",
        "metrics = ['euclidean','manhattan','hamming','minkowski','jaccard','dice','kulsinski']\n",
        "scoring = {'accuracy': 'accuracy','recall':make_scorer(recall_score,pos_label='positive')}\n",
        "\n",
        "grid_params = {\n",
        "    'n_neighbors': neighbors,\n",
        "    'metric': metrics,\n",
        "}\n",
        "\n",
        "cls = KNeighborsClassifier()\n",
        "\n",
        "gs = GridSearchCV(cls, param_grid=grid_params, scoring=scoring, refit='recall')\n",
        "gs.fit(X_train,Y_train)\n",
        "\n",
        "Y_pred = gs.predict(X_test)\n",
        "print(classification_report(Y_test,Y_pred))\n",
        "\n",
        "print('Best score: ', gs.best_score_)\n",
        "print('Best parameters: ', gs.best_params_)\n",
        "print('Best estimators: ',gs.best_estimator_)\n",
        "print('Results: ',gs.cv_results_)"
      ],
      "execution_count": null,
      "outputs": []
    },
    {
      "cell_type": "code",
      "metadata": {
        "id": "Qg4aRaeDgM9u",
        "colab_type": "code",
        "colab": {
          "base_uri": "https://localhost:8080/",
          "height": 564
        },
        "outputId": "256e3c40-28cb-4205-f978-40347523e9eb"
      },
      "source": [
        "df = pd.read_csv('qsar_oral_toxicity.csv', sep=';', header=None)\n",
        "\n",
        "X = df.iloc[:,:-1]\n",
        "Y = df.iloc[:,1024]\n",
        "\n",
        "X_train, X_test, Y_train, Y_test = train_test_split(X,Y,test_size=0.25)\n",
        "\n",
        "undersample = RandomUnderSampler(random_state=0)\n",
        "X_train2, Y_train2 = undersample.fit_resample(X_train, Y_train)\n",
        "\n",
        "oversample = SMOTE()\n",
        "X_train3, Y_train3 = oversample.fit_resample(X_train,Y_train)\n",
        "\n",
        "cls = KNeighborsClassifier(n_neighbors=1, metric='kulsinski')\n",
        "\n",
        "l = [(X_train,Y_train),(X_train2,Y_train2),(X_train3,Y_train3)]\n",
        "  \n",
        "for i,j in l:\n",
        "  cls.fit(i,j)\n",
        "  Y_pred = cls.predict(X_test)\n",
        "  print(classification_report(Y_test,Y_pred))\n"
      ],
      "execution_count": null,
      "outputs": [
        {
          "output_type": "stream",
          "text": [
            "/usr/local/lib/python3.6/dist-packages/sklearn/utils/deprecation.py:87: FutureWarning: Function safe_indexing is deprecated; safe_indexing is deprecated in version 0.22 and will be removed in version 0.24.\n",
            "  warnings.warn(msg, category=FutureWarning)\n",
            "/usr/local/lib/python3.6/dist-packages/sklearn/utils/deprecation.py:87: FutureWarning: Function safe_indexing is deprecated; safe_indexing is deprecated in version 0.22 and will be removed in version 0.24.\n",
            "  warnings.warn(msg, category=FutureWarning)\n"
          ],
          "name": "stderr"
        },
        {
          "output_type": "stream",
          "text": [
            "              precision    recall  f1-score   support\n",
            "\n",
            "    negative       0.96      0.95      0.95      2060\n",
            "    positive       0.50      0.54      0.52       188\n",
            "\n",
            "    accuracy                           0.92      2248\n",
            "   macro avg       0.73      0.75      0.74      2248\n",
            "weighted avg       0.92      0.92      0.92      2248\n",
            "\n",
            "              precision    recall  f1-score   support\n",
            "\n",
            "    negative       0.98      0.66      0.79      2060\n",
            "    positive       0.18      0.82      0.30       188\n",
            "\n",
            "    accuracy                           0.68      2248\n",
            "   macro avg       0.58      0.74      0.54      2248\n",
            "weighted avg       0.91      0.68      0.75      2248\n",
            "\n",
            "              precision    recall  f1-score   support\n",
            "\n",
            "    negative       0.96      0.95      0.95      2060\n",
            "    positive       0.48      0.54      0.51       188\n",
            "\n",
            "    accuracy                           0.91      2248\n",
            "   macro avg       0.72      0.74      0.73      2248\n",
            "weighted avg       0.92      0.91      0.92      2248\n",
            "\n"
          ],
          "name": "stdout"
        }
      ]
    },
    {
      "cell_type": "code",
      "metadata": {
        "id": "y8sKcb-Y_qXy",
        "colab_type": "code",
        "colab": {}
      },
      "source": [
        "import numpy as np\n",
        "import matplotlib.pyplot as plt\n",
        "import pandas as pd\n",
        "\n",
        "def plot_decision_boundaries(X, y, model_class, **model_params):\n",
        "    \"\"\"\n",
        "    Function to plot the decision boundaries of a classification model.\n",
        "    This uses just the first two columns of the data for fitting \n",
        "    the model as we need to find the predicted value for every point in \n",
        "    scatter plot.\n",
        "    Arguments:\n",
        "            X: Feature data as a NumPy-type array.\n",
        "            y: Label data as a NumPy-type array.\n",
        "            model_class: A Scikit-learn ML estimator class \n",
        "            e.g. GaussianNB (imported from sklearn.naive_bayes) or\n",
        "            LogisticRegression (imported from sklearn.linear_model)\n",
        "            **model_params: Model parameters to be passed on to the ML estimator\n",
        "    \n",
        "    Typical code example:\n",
        "            plt.figure()\n",
        "            plt.title(\"KNN decision boundary with neighbros: 5\",fontsize=16)\n",
        "            plot_decision_boundaries(X_train,y_train,KNeighborsClassifier,n_neighbors=5)\n",
        "            plt.show()\n",
        "    \"\"\"\n",
        "    try:\n",
        "        X = np.array(X)\n",
        "        y = np.array(y).flatten()\n",
        "    except:\n",
        "        print(\"Coercing input data to NumPy arrays failed\")\n",
        "    # Reduces to the first two columns of data\n",
        "    reduced_data = X[:, :2]\n",
        "    # Instantiate the model object\n",
        "    model = model_class(**model_params)\n",
        "    # Fits the model with the reduced data\n",
        "    model.fit(reduced_data, y)\n",
        "\n",
        "    # Step size of the mesh. Decrease to increase the quality of the VQ.\n",
        "    h = .02     # point in the mesh [x_min, m_max]x[y_min, y_max].    \n",
        "\n",
        "    # Plot the decision boundary. For that, we will assign a color to each\n",
        "    x_min, x_max = reduced_data[:, 0].min() - 1, reduced_data[:, 0].max() + 1\n",
        "    y_min, y_max = reduced_data[:, 1].min() - 1, reduced_data[:, 1].max() + 1\n",
        "    # Meshgrid creation\n",
        "    xx, yy = np.meshgrid(np.arange(x_min, x_max, h), np.arange(y_min, y_max, h))\n",
        "\n",
        "    # Obtain labels for each point in mesh using the model.\n",
        "    Z = model.predict(np.c_[xx.ravel(), yy.ravel()])    \n",
        "\n",
        "    x_min, x_max = X[:, 0].min() - 1, X[:, 0].max() + 1\n",
        "    y_min, y_max = X[:, 1].min() - 1, X[:, 1].max() + 1\n",
        "    xx, yy = np.meshgrid(np.arange(x_min, x_max, 0.1),\n",
        "                         np.arange(y_min, y_max, 0.1))\n",
        "\n",
        "    # Predictions to obtain the classification results\n",
        "    Z = model.predict(np.c_[xx.ravel(), yy.ravel()]).reshape(xx.shape)\n",
        "\n",
        "    # Plotting\n",
        "    plt.contourf(xx, yy, Z, alpha=0.4)\n",
        "    plt.scatter(X[:, 0], X[:, 1], c=y, alpha=0.8)\n",
        "    plt.xlabel(\"Feature-1\",fontsize=15)\n",
        "    plt.ylabel(\"Feature-2\",fontsize=15)\n",
        "    plt.xticks(fontsize=14)\n",
        "    plt.yticks(fontsize=14)\n",
        "    return plt"
      ],
      "execution_count": null,
      "outputs": []
    },
    {
      "cell_type": "code",
      "metadata": {
        "id": "AFRpYcTYecyb",
        "colab_type": "code",
        "colab": {}
      },
      "source": [
        "df = pd.read_csv('qsar_oral_toxicity.csv', sep=';', header=None)\n",
        "\n",
        "X = df.iloc[:,:-1]\n",
        "Y = df.iloc[:,1024]\n",
        "\n",
        "\n",
        "X_train, X_test, Y_train, Y_test = train_test_split(X,Y,test_size=0.25)\n",
        "\n",
        "cls = KNeighborsClassifier(n_neighbors=1, metric='kulsinski')\n",
        "cls.fit(X_train,Y_train)\n",
        "\n",
        "plot_clustering(X,Y)\n",
        "add_decision_boundary(cls)\n",
        "plt.show()\n",
        "\n"
      ],
      "execution_count": null,
      "outputs": []
    },
    {
      "cell_type": "markdown",
      "metadata": {
        "id": "1RCr4zwCGKW7",
        "colab_type": "text"
      },
      "source": [
        "Bernoulli Naïve Bayes"
      ]
    },
    {
      "cell_type": "code",
      "metadata": {
        "id": "XcamFSzfGN55",
        "colab_type": "code",
        "colab": {}
      },
      "source": [
        "df = pd.read_csv('qsar_oral_toxicity.csv', sep=';', header=None)\n",
        "\n",
        "X = df.iloc[:,:-1]\n",
        "Y = df.iloc[:,1024]\n",
        "\n",
        "#undersample = RandomUnderSampler(random_state=0)\n",
        "#X, Y = undersample.fit_resample(X, Y)\n",
        "\n",
        "X_train, X_test, Y_train, Y_test = train_test_split(X,Y,test_size=0.25)\n",
        "\n",
        "#oversample = SMOTE()\n",
        "#X_train, Y_train = oversample.fit_resample(X_train,Y_train)\n",
        "\n",
        "#scaler = StandardScaler()\n",
        "#scaler.fit(X_train)\n",
        "\n",
        "#X_train = scaler.transform(X_train)\n",
        "#X_test = scaler.transform(X_test)\n",
        "\n",
        "classifier = BernoulliNB()\n",
        "classifier.fit(X_train,Y_train)\n",
        "\n",
        "Y_pred = classifier.predict(X_test)\n",
        "\n",
        "print(classification_report(Y_test,Y_pred))\n",
        "print(confusion_matrix(Y_test, Y_pred))\n",
        "\n"
      ],
      "execution_count": null,
      "outputs": []
    },
    {
      "cell_type": "code",
      "metadata": {
        "id": "-1I1jYlSFmyD",
        "colab_type": "code",
        "colab": {}
      },
      "source": [
        "df = pd.read_csv('qsar_oral_toxicity.csv', sep=';', header=None)\n",
        "X = df.iloc[:,:-1]\n",
        "Y = df.iloc[:,1024]\n",
        "#acp = ACP(X,0.95)\n",
        "cross = knn_cross_validation(X, Y, 10, [1, 3, 5, 10, 15])\n",
        "acc = []\n",
        "neigh = []\n",
        "for i in cross:\n",
        "    for j in i:\n",
        "        neigh.append(j[0])\n",
        "        acc.append(j[1])\n",
        "acc_cross_df = pd.DataFrame(data=neigh, columns=['voisins'])\n",
        "acc_cross_df['acc']=acc\n",
        "\n",
        "\n",
        "sns.lineplot(x=neigh, y=acc)\n",
        "plt.show()"
      ],
      "execution_count": null,
      "outputs": []
    },
    {
      "cell_type": "markdown",
      "metadata": {
        "id": "CSX8YYxibSqs",
        "colab_type": "text"
      },
      "source": [
        "Quadratic Discriminant Analysis"
      ]
    },
    {
      "cell_type": "code",
      "metadata": {
        "id": "UIXFZh0AbZOk",
        "colab_type": "code",
        "colab": {}
      },
      "source": [
        "df = pd.read_csv('qsar_oral_toxicity.csv', sep=';', header=None)\n",
        "\n",
        "X = df.iloc[:,:-1]\n",
        "Y = df.iloc[:,1024]\n",
        "\n",
        "#oversample = SMOTE()\n",
        "#X, Y = oversample.fit_resample(X,Y)\n",
        "\n",
        "#undersample = RandomUnderSampler(random_state=0)\n",
        "#X, Y = undersample.fit_resample(X, Y)\n",
        "\n",
        "X_train, X_test, Y_train, Y_test = train_test_split(X,Y,test_size=0.25)\n",
        "\n",
        "scaler = StandardScaler()\n",
        "scaler.fit(X_train)\n",
        "\n",
        "X_train = scaler.transform(X_train)\n",
        "X_test = scaler.transform(X_test)\n",
        "\n",
        "cls = QuadraticDiscriminantAnalysis()\n",
        "cls.fit(X_train, Y_train)\n",
        "\n",
        "Y_pred = cls.predict(X_test)\n",
        "print(classification_report(Y_test,Y_pred))"
      ],
      "execution_count": null,
      "outputs": []
    },
    {
      "cell_type": "markdown",
      "metadata": {
        "id": "FrCYFi8MbSSI",
        "colab_type": "text"
      },
      "source": [
        "Linear Discriminant Analysis"
      ]
    },
    {
      "cell_type": "code",
      "metadata": {
        "id": "mnL90hVqcNRn",
        "colab_type": "code",
        "colab": {
          "base_uri": "https://localhost:8080/",
          "height": 170
        },
        "outputId": "8d19a4e7-ec2a-40e8-c1d1-d404015985c0"
      },
      "source": [
        "#df = pd.read_csv('qsar_oral_toxicity.csv', sep=';', header=None)\n",
        "df = pd.read_csv('qsar_oral_toxicity_reduce.csv', sep=',', header=None)\n",
        "\n",
        "X = df.iloc[:,:-1]\n",
        "Y = df.iloc[:,1024]\n",
        "\n",
        "X_train, X_test, Y_train, Y_test = train_test_split(X,Y,test_size=0.25)\n",
        "\n",
        "#oversample = SMOTE()\n",
        "#X_train, Y_train = oversample.fit_resample(X_train,Y_train)\n",
        "\n",
        "#undersample = RandomUnderSampler(random_state=0)\n",
        "#X_train, Y_train = undersample.fit_resample(X_train, Y_train)\n",
        "\n",
        "cls = LinearDiscriminantAnalysis()\n",
        "cls.fit(X_train, Y_train)\n",
        "\n",
        "Y_pred = cls.predict(X_test)\n",
        "print(classification_report(Y_test,Y_pred))"
      ],
      "execution_count": null,
      "outputs": [
        {
          "output_type": "stream",
          "text": [
            "              precision    recall  f1-score   support\n",
            "\n",
            "           0       0.99      1.00      0.99      2192\n",
            "           1       0.74      0.51      0.60        49\n",
            "\n",
            "    accuracy                           0.99      2241\n",
            "   macro avg       0.86      0.75      0.80      2241\n",
            "weighted avg       0.98      0.99      0.98      2241\n",
            "\n"
          ],
          "name": "stdout"
        }
      ]
    },
    {
      "cell_type": "markdown",
      "metadata": {
        "id": "Wt_kMZt1bSDJ",
        "colab_type": "text"
      },
      "source": [
        "Decision Tree Classifier"
      ]
    },
    {
      "cell_type": "code",
      "metadata": {
        "id": "m1yFjT7v8N4K",
        "colab_type": "code",
        "colab": {}
      },
      "source": [
        "df = pd.read_csv('qsar_oral_toxicity.csv', sep=';', header=None)\n",
        "\n",
        "X = df.iloc[:,:-1]\n",
        "Y = df.iloc[:,1024]\n",
        "\n",
        "X_train, X_test, Y_train, Y_test = train_test_split(X,Y,test_size=0.25)\n",
        "\n",
        "scoring = {'accuracy': 'accuracy','recall':make_scorer(recall_score,pos_label='positive')}\n",
        "\n",
        "grid_params = {\n",
        "    'max_depth': range(1,100,5),\n",
        "    'min_samples_split' : range(2,50),\n",
        "    'class_weight' : ['balanced']\n",
        "}\n",
        "\n",
        "cls = DecisionTreeClassifier()\n",
        "\n",
        "gs = GridSearchCV(cls, param_grid=grid_params, scoring=scoring, refit='recall')\n",
        "gs.fit(X_train,Y_train)\n",
        "\n",
        "Y_pred = gs.predict(X_test)\n",
        "print(classification_report(Y_test,Y_pred))\n",
        "\n",
        "print('Best score: ', gs.best_score_)\n",
        "print('Best parameters: ', gs.best_params_)\n",
        "print('Best estimators: ',gs.best_estimator_)"
      ],
      "execution_count": null,
      "outputs": []
    },
    {
      "cell_type": "code",
      "metadata": {
        "id": "XK0pVIXIrhJi",
        "colab_type": "code",
        "colab": {}
      },
      "source": [
        "df = pd.read_csv('qsar_oral_toxicity.csv', sep=';', header=None)\n",
        "\n",
        "X = df.iloc[:,:-1]\n",
        "Y = df.iloc[:,1024]\n",
        "\n",
        "X_train, X_test, Y_train, Y_test = train_test_split(X,Y,test_size=0.25)\n",
        "\n",
        "cls = DecisionTreeClassifier(max_depth=11,min_samples_split=49)\n",
        "cls.fit(X_train, Y_train)\n",
        "\n",
        "Y_pred = cls.predict(X_test)\n",
        "print(classification_report(Y_test,Y_pred))"
      ],
      "execution_count": null,
      "outputs": []
    },
    {
      "cell_type": "code",
      "metadata": {
        "id": "ajD5XUBhhQ4Y",
        "colab_type": "code",
        "colab": {
          "base_uri": "https://localhost:8080/",
          "height": 279
        },
        "outputId": "ffd09ca8-cb47-4332-a0cd-31d429deeda9"
      },
      "source": [
        "from sklearn.tree import plot_tree\n",
        "import sklearn.tree as tree\n",
        "import graphviz\n",
        "\n",
        "df = pd.read_csv('qsar_oral_toxicity.csv', sep=';', header=None)\n",
        "\n",
        "X = df.iloc[:,:-1]\n",
        "Y = df.iloc[:,1024]\n",
        "\n",
        "res = []\n",
        "for i in range(100):\n",
        "  X_train, X_test, Y_train, Y_test = train_test_split(X,Y,test_size=0.25)\n",
        "  cls = DecisionTreeClassifier(max_depth=11,min_samples_split=49, class_weight='balanced')\n",
        "  cls.fit(X_train, Y_train)\n",
        "\n",
        "  Y_pred = cls.predict(X_test)\n",
        "  res.append((recall_score(Y_test,Y_pred,pos_label='positive'),recall_score(Y_test,Y_pred,pos_label='negative'),accuracy_score(Y_test,Y_pred)))\n",
        "\n",
        "df = pd.DataFrame(data=res, columns=['sensitivity','specificity','accuracy'])\n",
        "\n",
        "plt.plot(df.index,df['sensitivity'],'r',df.index,df['specificity'],'b',df.index,df['accuracy'],'g')\n",
        "plt.xlabel('n')\n",
        "plt.legend(['sensitivity','specificity','accuracy'])\n",
        "\n",
        "\n",
        "#plt.figure()\n",
        "#plot_tree(cls, filled=True)\n",
        "plt.show()\n",
        "\n",
        "#\n",
        "#graph = graphviz.Source(tree.export_graphviz(cls))\n",
        "#graph.render()"
      ],
      "execution_count": null,
      "outputs": [
        {
          "output_type": "display_data",
          "data": {
            "image/png": "[encoded data removed]",
            "text/plain": [
              "<Figure size 432x288 with 1 Axes>"
            ]
          },
          "metadata": {
            "tags": [],
            "needs_background": "light"
          }
        }
      ]
    },
    {
      "cell_type": "markdown",
      "metadata": {
        "id": "fWegP3Lv6F9V",
        "colab_type": "text"
      },
      "source": [
        "Random Forest Classifier"
      ]
    },
    {
      "cell_type": "code",
      "metadata": {
        "id": "YackuwsJ6Ihv",
        "colab_type": "code",
        "colab": {
          "base_uri": "https://localhost:8080/",
          "height": 279
        },
        "outputId": "2c246593-2a32-4951-ce77-588b1186d1c5"
      },
      "source": [
        "from sklearn.ensemble import RandomForestClassifier\n",
        "\n",
        "df = pd.read_csv('qsar_oral_toxicity.csv', sep=';', header=None)\n",
        "\n",
        "X = df.iloc[:,:-1]\n",
        "# X = ACP(df,.95)\n",
        "Y = df.iloc[:,1024]\n",
        "\n",
        "res = []\n",
        "\n",
        "for i in range(100):\n",
        "  X_train, X_test, Y_train, Y_test = train_test_split(X,Y,test_size=0.25)\n",
        "\n",
        "  cls = RandomForestClassifier(max_depth=11,min_samples_split=49, class_weight='balanced')\n",
        "  cls.fit(X_train, Y_train)\n",
        "\n",
        "  Y_pred = cls.predict(X_test)\n",
        "  res.append((recall_score(Y_test,Y_pred,pos_label='positive'),recall_score(Y_test,Y_pred,pos_label='negative'),accuracy_score(Y_test,Y_pred)))\n",
        "\n",
        "df = pd.DataFrame(data=res, columns=['sensitivity','specificity','accuracy'])\n",
        "plt.plot(df.index,df['sensitivity'],'r',df.index,df['specificity'],'b',df.index,df['accuracy'],'g')\n",
        "plt.xlabel('n')\n",
        "plt.legend(['sensitivity','specificity','accuracy'])\n",
        "plt.show()"
      ],
      "execution_count": null,
      "outputs": [
        {
          "output_type": "display_data",
          "data": {
            "image/png": "[encoded data removed]",
            "text/plain": [
              "<Figure size 432x288 with 1 Axes>"
            ]
          },
          "metadata": {
            "tags": [],
            "needs_background": "light"
          }
        }
      ]
    },
    {
      "cell_type": "markdown",
      "metadata": {
        "id": "QBwH6LXG2hez",
        "colab_type": "text"
      },
      "source": [
        "Bagging"
      ]
    },
    {
      "cell_type": "code",
      "metadata": {
        "id": "o-1mS1sDzYFM",
        "colab_type": "code",
        "colab": {
          "base_uri": "https://localhost:8080/",
          "height": 170
        },
        "outputId": "7abec97f-e04c-48aa-affe-7a1b956ded56"
      },
      "source": [
        "from sklearn.tree import plot_tree\n",
        "df = pd.read_csv('qsar_oral_toxicity.csv', sep=';', header=None)\n",
        "\n",
        "X = df.iloc[:,:-1]\n",
        "#X = ACP(df,.95)\n",
        "Y = df.iloc[:,1024]\n",
        "\n",
        "res = []\n",
        "\n",
        "#for i in range(100):\n",
        "X_train, X_test, Y_train, Y_test = train_test_split(X,Y,test_size=0.25)\n",
        "\n",
        "cls = BaggingClassifier(base_estimator=DecisionTreeClassifier(max_depth=11,min_samples_split=49, class_weight='balanced'))\n",
        "cls.fit(X_train, Y_train)\n",
        "\n",
        "Y_pred = cls.predict(X_test)\n",
        "#res.append((recall_score(Y_test,Y_pred,pos_label='positive'),recall_score(Y_test,Y_pred,pos_label='negative'),accuracy_score(Y_test,Y_pred)))\n",
        "\n",
        "#df = pd.DataFrame(data=res, columns=['sensitivity','specificity','accuracy'])\n",
        "#plt.plot(df.index,df['sensitivity'],'r',df.index,df['specificity'],'b',df.index,df['accuracy'],'g')\n",
        "\n",
        "print(classification_report(Y_test,Y_pred))\n",
        "#plot_tree(cls, filled=True)\n",
        "#plt.show()"
      ],
      "execution_count": null,
      "outputs": [
        {
          "output_type": "stream",
          "text": [
            "              precision    recall  f1-score   support\n",
            "\n",
            "    negative       0.97      0.93      0.95      2070\n",
            "    positive       0.45      0.66      0.54       178\n",
            "\n",
            "    accuracy                           0.91      2248\n",
            "   macro avg       0.71      0.79      0.74      2248\n",
            "weighted avg       0.93      0.91      0.92      2248\n",
            "\n"
          ],
          "name": "stdout"
        }
      ]
    },
    {
      "cell_type": "markdown",
      "metadata": {
        "id": "dlTmimlsok4O",
        "colab_type": "text"
      },
      "source": [
        "Decision Tree vs Bagging vs Random Forest"
      ]
    },
    {
      "cell_type": "code",
      "metadata": {
        "id": "RTxUt548oqff",
        "colab_type": "code",
        "colab": {
          "base_uri": "https://localhost:8080/",
          "height": 296
        },
        "outputId": "8fcb9d65-c376-4e78-c234-697df2c3879d"
      },
      "source": [
        "from sklearn.ensemble import RandomForestClassifier\n",
        "from sklearn.tree import plot_tree\n",
        "import sklearn.tree as tree\n",
        "import graphviz\n",
        "\n",
        "df = pd.read_csv('qsar_oral_toxicity.csv', sep=';', header=None)\n",
        "\n",
        "for i in range(8992):\n",
        "  if df.iloc[i,1024] == 'negative':\n",
        "    df.iloc[i,1024] = 0\n",
        "  else:\n",
        "    df.iloc[i,1024] = 1\n",
        "\n",
        "X = df.iloc[:,:-1]\n",
        "Y = df.iloc[:,1024].astype(int)\n",
        "\n",
        "X_train, X_test, Y_train, Y_test = train_test_split(X,Y,test_size=0.25)\n",
        "\n",
        "cls = DecisionTreeClassifier(max_depth=11,min_samples_split=49, class_weight='balanced')\n",
        "cls2 = BaggingClassifier(base_estimator=DecisionTreeClassifier(max_depth=11,min_samples_split=49, class_weight='balanced'))\n",
        "cls3 = RandomForestClassifier(max_depth=11,min_samples_split=49, class_weight='balanced')\n",
        "\n",
        "cls.fit(X_train,Y_train)\n",
        "cls2.fit(X_train,Y_train)\n",
        "cls3.fit(X_train,Y_train)\n",
        "\n",
        "Y_pred = cls.predict(X_test)\n",
        "Y_pred2 = cls2.predict(X_test)\n",
        "Y_pred3 = cls3.predict(X_test)\n",
        "\n",
        "fpr,tpr,_ = roc_curve(Y_test, Y_pred)\n",
        "fpr2,tpr2,_ = roc_curve(Y_test, Y_pred2)\n",
        "fpr3,tpr3,_ = roc_curve(Y_test, Y_pred3)\n",
        "\n",
        "#print(classification_report(Y_test,Y_pred))\n",
        "#print(classification_report(Y_test,Y_pred2))\n",
        "#print(classification_report(Y_test,Y_pred3))\n",
        "\n",
        "plt.figure(1)\n",
        "#plt.plot(fpr,tpr,'r',fpr2,tpr2,'b',fpr3,tpr3,'g')\n",
        "#plt.plot([0, 1], [0, 1], color='navy', lw=2, linestyle='--')\n",
        "\n",
        "x = plot_roc_curve(cls, X_test, Y_test, lw=1, name='Decision tree')\n",
        "plt.plot([0, 1], [0, 1], linestyle='--', lw=2, color='r', alpha=.8)\n",
        "y = plot_roc_curve(cls2, X_test, Y_test, lw=1, name='Bagging', ax=x.ax_)\n",
        "z = plot_roc_curve(cls3, X_test, Y_test, lw=1, name='Random forest', ax=x.ax_)\n",
        "\n",
        "\n",
        "plt.show()"
      ],
      "execution_count": null,
      "outputs": [
        {
          "output_type": "display_data",
          "data": {
            "text/plain": [
              "<Figure size 432x288 with 0 Axes>"
            ]
          },
          "metadata": {
            "tags": []
          }
        },
        {
          "output_type": "display_data",
          "data": {
            "image/png": "[encoded data removed]",
            "text/plain": [
              "<Figure size 432x288 with 1 Axes>"
            ]
          },
          "metadata": {
            "tags": [],
            "needs_background": "light"
          }
        }
      ]
    },
    {
      "cell_type": "code",
      "metadata": {
        "id": "EC-V2myfFY5D",
        "colab_type": "code",
        "colab": {}
      },
      "source": [
        "def accuracy(X_train, y_train, X_test, y_test, n_neighbors):\n",
        "    \"\"\"Précision d'un modèle Knn pour un jeu de données\n",
        "    d'apprentissage et de validation fournis.\"\"\"\n",
        "\n",
        "    # Définition, apprentissage et prédiction par la méthode des\n",
        "    # plus proches voisins avec `n_neighbors` voisins\n",
        "    cls = KNeighborsClassifier(n_neighbors=n_neighbors)\n",
        "    cls.fit(X_train, y_train)\n",
        "    y_predict = cls.predict(X_test)\n",
        "\n",
        "    # Calcul de la précision avec `accuracy_score`\n",
        "    #acc = accuracy_score(y_val, y_pred)\n",
        "    #acc = recall_score(y_val, y_pred, pos_label=['negative','positive'])\n",
        "    return recall_score(y_test, y_predict, pos_label='positive'), accuracy_score(y_test,y_predict)\n",
        "\n",
        "def knn_cross_validation(X, y, n_folds, n_neighbors_list):\n",
        "    \"\"\"Génère les couples nombre de voisins et précisions correspondantes.\"\"\"\n",
        "\n",
        "    # Conversion en tableau numpy si on fournit des DataFrame par exemple\n",
        "    X, y = check_X_y(X, y)\n",
        "\n",
        "    def models_accuracies(train_index, val_index, n_neighbors_list):\n",
        "        \"\"\"Précision de tous les modèles pour un jeu de données fixé.\"\"\"\n",
        "\n",
        "        # Création de `X_train`, `y_train`, `X_val` et `y_val`\n",
        "        X_train = X[train_index]\n",
        "        X_val = X[val_index]\n",
        "        Y_train = y[train_index]\n",
        "        Y_val = y[val_index]\n",
        "\n",
        "        oversample = SMOTE()\n",
        "        X_train, Y_train = oversample.fit_resample(X_train,Y_train)\n",
        "\n",
        "        # Calcul des précisions pour chaque nombre de voisins présent\n",
        "        # dans `n_neighbors`\n",
        "        for i in n_neighbors_list:\n",
        "            yield i, accuracy(X_train, Y_train, X_val, Y_val, i)\n",
        "\n",
        "    # Définition de `n_splits` jeu de données avec `ShuffleSplit`\n",
        "    ms = KFold(n_splits=n_folds)\n",
        "\n",
        "    # Calcul et retour des précisions avec `models_accuracies` pour\n",
        "    # chaque jeu de données défini par `ShuffleSplit`.\n",
        "    acc = []\n",
        "    sensitivity = []\n",
        "    for train, validation in ms.split(X):\n",
        "        yield  models_accuracies(train, validation, n_neighbors_list)\n",
        "        "
      ],
      "execution_count": null,
      "outputs": []
    },
    {
      "cell_type": "code",
      "metadata": {
        "id": "sdPZpDnYkRUL",
        "colab_type": "code",
        "colab": {}
      },
      "source": [
        "def validation_errors(X,y,cls):\n",
        "    for i in cls:\n",
        "        yield cross_validate(i,X,y, cv=10 , scoring=['accuracy'])\n",
        "\n",
        "df = pd.read_csv('qsar_oral_toxicity.csv', sep=';', header=None)\n",
        "\n",
        "X = df.iloc[:,:-1]\n",
        "y = df.iloc[:,-1]\n",
        "\n",
        "cls = [LinearDiscriminantAnalysis(), QuadraticDiscriminantAnalysis(), GaussianNB(), BernoulliNB()]\n",
        "name = ['LinearDiscriminantAnalysis', 'QuadraticDiscriminantAnalysis', 'GaussianNB', 'BernoulliNB']\n",
        "\n",
        "gen = validation_errors(X,y,cls)\n",
        "\n",
        "res = pd.DataFrame()\n",
        "res['cv'] = [i + 1 for i in range(10)]\n",
        "\n",
        "for i in name:\n",
        "    print(next(gen))\n",
        "\n",
        "pd.set_option('display.max_columns', None)\n",
        "#print(res)\n",
        "pd.reset_option('display.max_columns')\n",
        "\n"
      ],
      "execution_count": null,
      "outputs": []
    },
    {
      "cell_type": "markdown",
      "metadata": {
        "id": "l9QGKdnA9u_g",
        "colab_type": "text"
      },
      "source": [
        "Correlation"
      ]
    },
    {
      "cell_type": "code",
      "metadata": {
        "id": "SWgN1vlD9uvO",
        "colab_type": "code",
        "colab": {
          "base_uri": "https://localhost:8080/",
          "height": 642
        },
        "outputId": "7bc4d6fe-1970-41fa-f9d9-43a1127db348"
      },
      "source": [
        "import random\n",
        "from sklearn.metrics import plot_confusion_matrix\n",
        "\n",
        "df = pd.read_csv('qsar_oral_toxicity.csv', sep=';', header=None)\n",
        "\n",
        "X = df.iloc[:,:-1]\n",
        "y = df.iloc[:,-1]\n",
        "\n",
        "\n",
        "corr = X.corr()\n",
        "mask = np.zeros_like(corr)\n",
        "mask[np.triu_indices_from(mask)] = True\n",
        "sns.heatmap(corr, mask=mask)\n",
        "plt.show()\n",
        "\n",
        "delV = list()\n",
        "for i in range(corr.shape[0]):\n",
        "  for j in range(corr.shape[1]):\n",
        "    if corr[i][j] > 0.9 and i!=j:\n",
        "      if i not in delV and j not in delV:\n",
        "        tmp = random.randint(0,1)\n",
        "        if tmp == 1:\n",
        "          delV.append(j)\n",
        "        else:\n",
        "          delV.append(i)\n",
        "\n",
        "X = X.drop(delV, axis=1)\n",
        "\n",
        "X_train, X_test, Y_train, Y_test = train_test_split(X,Y,test_size=0.25)\n",
        "\n",
        "classifier = LogisticRegression(class_weight='balanced')\n",
        "classifier.fit(X_train,Y_train)\n",
        "\n",
        "Y_pred = classifier.predict(X_test)\n",
        "\n",
        "print(classification_report(Y_test,Y_pred))\n",
        "plot_confusion_matrix(classifier,X_test,Y_test)\n",
        "plt.show()\n"
      ],
      "execution_count": null,
      "outputs": [
        {
          "output_type": "display_data",
          "data": {
            "image/png": "[encoded data removed]",
            "text/plain": [
              "<Figure size 432x288 with 2 Axes>"
            ]
          },
          "metadata": {
            "tags": [],
            "needs_background": "light"
          }
        },
        {
          "output_type": "error",
          "ename": "ValueError",
          "evalue": "ignored",
          "traceback": [
            "\u001b[0;31m---------------------------------------------------------------------------\u001b[0m",
            "\u001b[0;31mValueError\u001b[0m                                Traceback (most recent call last)",
            "\u001b[0;32m<ipython-input-11-314ae7986602>\u001b[0m in \u001b[0;36m<module>\u001b[0;34m()\u001b[0m\n\u001b[1;32m     30\u001b[0m \u001b[0;34m\u001b[0m\u001b[0m\n\u001b[1;32m     31\u001b[0m \u001b[0mclassifier\u001b[0m \u001b[0;34m=\u001b[0m \u001b[0mLogisticRegression\u001b[0m\u001b[0;34m(\u001b[0m\u001b[0mclass_weight\u001b[0m\u001b[0;34m=\u001b[0m\u001b[0;34m'balanced'\u001b[0m\u001b[0;34m)\u001b[0m\u001b[0;34m\u001b[0m\u001b[0;34m\u001b[0m\u001b[0m\n\u001b[0;32m---> 32\u001b[0;31m \u001b[0mclassifier\u001b[0m\u001b[0;34m.\u001b[0m\u001b[0mfit\u001b[0m\u001b[0;34m(\u001b[0m\u001b[0mX_train\u001b[0m\u001b[0;34m,\u001b[0m\u001b[0mY_train\u001b[0m\u001b[0;34m)\u001b[0m\u001b[0;34m\u001b[0m\u001b[0;34m\u001b[0m\u001b[0m\n\u001b[0m\u001b[1;32m     33\u001b[0m \u001b[0;34m\u001b[0m\u001b[0m\n\u001b[1;32m     34\u001b[0m \u001b[0mY_pred\u001b[0m \u001b[0;34m=\u001b[0m \u001b[0mclassifier\u001b[0m\u001b[0;34m.\u001b[0m\u001b[0mpredict\u001b[0m\u001b[0;34m(\u001b[0m\u001b[0mX_test\u001b[0m\u001b[0;34m)\u001b[0m\u001b[0;34m\u001b[0m\u001b[0;34m\u001b[0m\u001b[0m\n",
            "\u001b[0;32m/usr/local/lib/python3.6/dist-packages/sklearn/linear_model/_logistic.py\u001b[0m in \u001b[0;36mfit\u001b[0;34m(self, X, y, sample_weight)\u001b[0m\n\u001b[1;32m   1526\u001b[0m         X, y = check_X_y(X, y, accept_sparse='csr', dtype=_dtype, order=\"C\",\n\u001b[1;32m   1527\u001b[0m                          accept_large_sparse=solver != 'liblinear')\n\u001b[0;32m-> 1528\u001b[0;31m         \u001b[0mcheck_classification_targets\u001b[0m\u001b[0;34m(\u001b[0m\u001b[0my\u001b[0m\u001b[0;34m)\u001b[0m\u001b[0;34m\u001b[0m\u001b[0;34m\u001b[0m\u001b[0m\n\u001b[0m\u001b[1;32m   1529\u001b[0m         \u001b[0mself\u001b[0m\u001b[0;34m.\u001b[0m\u001b[0mclasses_\u001b[0m \u001b[0;34m=\u001b[0m \u001b[0mnp\u001b[0m\u001b[0;34m.\u001b[0m\u001b[0munique\u001b[0m\u001b[0;34m(\u001b[0m\u001b[0my\u001b[0m\u001b[0;34m)\u001b[0m\u001b[0;34m\u001b[0m\u001b[0;34m\u001b[0m\u001b[0m\n\u001b[1;32m   1530\u001b[0m         \u001b[0mn_samples\u001b[0m\u001b[0;34m,\u001b[0m \u001b[0mn_features\u001b[0m \u001b[0;34m=\u001b[0m \u001b[0mX\u001b[0m\u001b[0;34m.\u001b[0m\u001b[0mshape\u001b[0m\u001b[0;34m\u001b[0m\u001b[0;34m\u001b[0m\u001b[0m\n",
            "\u001b[0;32m/usr/local/lib/python3.6/dist-packages/sklearn/utils/multiclass.py\u001b[0m in \u001b[0;36mcheck_classification_targets\u001b[0;34m(y)\u001b[0m\n\u001b[1;32m    167\u001b[0m     if y_type not in ['binary', 'multiclass', 'multiclass-multioutput',\n\u001b[1;32m    168\u001b[0m                       'multilabel-indicator', 'multilabel-sequences']:\n\u001b[0;32m--> 169\u001b[0;31m         \u001b[0;32mraise\u001b[0m \u001b[0mValueError\u001b[0m\u001b[0;34m(\u001b[0m\u001b[0;34m\"Unknown label type: %r\"\u001b[0m \u001b[0;34m%\u001b[0m \u001b[0my_type\u001b[0m\u001b[0;34m)\u001b[0m\u001b[0;34m\u001b[0m\u001b[0;34m\u001b[0m\u001b[0m\n\u001b[0m\u001b[1;32m    170\u001b[0m \u001b[0;34m\u001b[0m\u001b[0m\n\u001b[1;32m    171\u001b[0m \u001b[0;34m\u001b[0m\u001b[0m\n",
            "\u001b[0;31mValueError\u001b[0m: Unknown label type: 'unknown'"
          ]
        }
      ]
    },
    {
      "cell_type": "markdown",
      "metadata": {
        "id": "bpAW7iqjjHuf",
        "colab_type": "text"
      },
      "source": [
        "Logistic Regression"
      ]
    },
    {
      "cell_type": "code",
      "metadata": {
        "id": "hA77FN4eQ_Zg",
        "colab_type": "code",
        "colab": {}
      },
      "source": [
        "df = pd.read_csv('qsar_oral_toxicity.csv', sep=';', header=None)\n",
        "#df = pd.read_csv('qsar_oral_toxicity_reduce.csv', sep=',')\n",
        "#df = df.drop(columns=['Unnamed: 0'])\n",
        "\n",
        "print(df)\n",
        "\n",
        "X = df.iloc[:,:-1]\n",
        "# X = ACP(df, 0.95)\n",
        "Y = df.iloc[:,1024]\n",
        "\n",
        "#X = ACP(df,0.95)\n",
        "\n",
        "#Y.loc[Y == 'negative'] = 0\n",
        "#Y.loc[Y == 'positive'] = 1\n",
        "\n",
        "#undersample = RandomUnderSampler(random_state=0)\n",
        "#X, Y = undersample.fit_resample(X, Y)\n",
        "\n",
        "X_train, X_test, Y_train, Y_test = train_test_split(X,Y,test_size=0.25)\n",
        "\n",
        "# oversample = SMOTE()\n",
        "# X_train, Y_train = oversample.fit_resample(X_train,Y_train)\n",
        "\n",
        "classifier = LogisticRegression(class_weight='balanced')\n",
        "classifier.fit(X_train,Y_train)\n",
        "\n",
        "Y_pred = classifier.predict(X_test)\n",
        "\n",
        "print(classification_report(Y_test,Y_pred))\n",
        "print(confusion_matrix(Y_test, Y_pred))\n"
      ],
      "execution_count": null,
      "outputs": []
    },
    {
      "cell_type": "markdown",
      "metadata": {
        "id": "JKWlZjyFleCa",
        "colab_type": "text"
      },
      "source": [
        "Exploration - Individus"
      ]
    },
    {
      "cell_type": "code",
      "metadata": {
        "id": "hKgVhTCIldR5",
        "colab_type": "code",
        "colab": {}
      },
      "source": [
        "df = pd.read_csv('qsar_oral_toxicity.csv', sep=';', header=None)\n",
        "\n",
        "\n",
        "# Que des 0 et negatif\n",
        "a = []\n",
        "# Que des 1 et positif\n",
        "b = []\n",
        "# Que des 0 et positif => error\n",
        "c = []\n",
        "# Un seul 1 et positif\n",
        "d = []\n",
        "# Au moins un 1 et négatif\n",
        "e = [] \n",
        "#\n",
        "f = [] \n",
        "\n",
        "for i in range(df.shape[0]):\n",
        "  if sum(df.iloc[i,:1023]) == 0 and df.iloc[i,1024] == 'negative':\n",
        "    a.append(i)\n",
        "  if sum(df.iloc[i,:1023]) == 1023 and df.iloc[i,1024] == 'positive':\n",
        "    b.append(i)\n",
        "  if sum(df.iloc[i,:1023]) == 0 and df.iloc[i,1024] == 'positive':\n",
        "    c.append(i)\n",
        "  if sum(df.iloc[i,:1023]) == 1 and df.iloc[i,1024] == 'positive':\n",
        "    d.append(i)\n",
        "  if sum(df.iloc[i,:1023]) > 0 and df.iloc[i,1024] == 'negative':\n",
        "    e.append((sum(df.iloc[i,:1023]),i))\n",
        "  if sum(df.iloc[i,:1023]) > 0 and df.iloc[i,1024] == 'positive':\n",
        "    f.append((sum(df.iloc[i,:1023]),i))\n",
        "\n",
        "print(a)\n",
        "print(b)\n",
        "print(c)\n",
        "print(d)\n",
        "print(e)\n",
        "print(f)\n",
        "print(e)"
      ],
      "execution_count": null,
      "outputs": []
    },
    {
      "cell_type": "markdown",
      "metadata": {
        "id": "KhNc5Ot7qlHg",
        "colab_type": "text"
      },
      "source": [
        "Exploration - Variables"
      ]
    },
    {
      "cell_type": "code",
      "metadata": {
        "id": "E4nz6S60qk2c",
        "colab_type": "code",
        "colab": {
          "base_uri": "https://localhost:8080/",
          "height": 54
        },
        "outputId": "d1e1cb36-5868-4737-8b4e-7489d9cacfa9"
      },
      "source": [
        "df = pd.read_csv('qsar_oral_toxicity.csv', sep=';', header=None)\n",
        "\n",
        "\n",
        "for i in range(8992):\n",
        "  if df.iloc[i,1024] == 'negative':\n",
        "    df.iloc[i,1024] = 0\n",
        "  else:\n",
        "    df.iloc[i,1024] = 1\n",
        "\n",
        "similarity = pd.DataFrame()\n",
        "#for i in range(1024):\n",
        "#  if df.iloc[:,i].equals(df.iloc[:,1024]):\n",
        "#    print(i)\n",
        "\n",
        "idx = df.index[df.iloc[:,1024] == 1].to_list()\n",
        "\n",
        "print(idx)\n",
        "\n",
        "#for i in idx:\n",
        "#  print(i, df.iloc[i,:1023].to_numpy())"
      ],
      "execution_count": null,
      "outputs": [
        {
          "output_type": "stream",
          "text": [
            "[7, 26, 36, 43, 60, 81, 96, 105, 106, 107, 132, 148, 152, 155, 156, 190, 193, 307, 327, 328, 329, 339, 343, 345, 347, 354, 387, 409, 412, 437, 446, 449, 488, 492, 538, 620, 635, 639, 650, 665, 675, 700, 751, 784, 792, 825, 872, 873, 874, 875, 876, 879, 950, 953, 980, 984, 989, 1001, 1025, 1041, 1046, 1049, 1075, 1079, 1149, 1150, 1240, 1243, 1285, 1313, 1333, 1350, 1360, 1364, 1388, 1389, 1390, 1391, 1392, 1423, 1435, 1445, 1453, 1475, 1476, 1480, 1489, 1492, 1496, 1511, 1540, 1541, 1542, 1543, 1544, 1545, 1546, 1550, 1566, 1569, 1585, 1595, 1625, 1631, 1633, 1637, 1641, 1655, 1656, 1670, 1710, 1715, 1725, 1726, 1736, 1741, 1744, 1749, 1757, 1761, 1770, 1784, 1796, 1834, 1839, 1892, 1893, 1919, 1949, 1951, 1996, 2020, 2022, 2029, 2032, 2033, 2034, 2037, 2042, 2083, 2091, 2114, 2118, 2120, 2133, 2143, 2152, 2180, 2198, 2201, 2213, 2214, 2220, 2223, 2224, 2234, 2237, 2238, 2240, 2241, 2243, 2271, 2274, 2280, 2294, 2295, 2296, 2297, 2298, 2300, 2312, 2346, 2347, 2350, 2373, 2375, 2391, 2434, 2437, 2440, 2442, 2443, 2454, 2455, 2486, 2504, 2508, 2518, 2526, 2528, 2529, 2530, 2532, 2534, 2567, 2570, 2581, 2582, 2584, 2591, 2596, 2628, 2643, 2651, 2684, 2703, 2708, 2720, 2723, 2732, 2736, 2737, 2769, 2779, 2780, 2782, 2789, 2790, 2791, 2792, 2793, 2819, 2835, 2851, 2887, 2890, 2899, 2907, 2913, 2914, 2915, 2935, 2947, 2979, 2982, 2991, 2999, 3005, 3006, 3007, 3037, 3040, 3070, 3073, 3079, 3081, 3103, 3118, 3119, 3124, 3127, 3139, 3149, 3164, 3166, 3181, 3208, 3229, 3235, 3237, 3243, 3244, 3247, 3257, 3261, 3263, 3264, 3266, 3282, 3306, 3308, 3333, 3346, 3347, 3350, 3368, 3373, 3395, 3399, 3416, 3449, 3452, 3459, 3465, 3470, 3485, 3492, 3504, 3528, 3529, 3530, 3532, 3542, 3575, 3585, 3586, 3587, 3588, 3606, 3611, 3617, 3630, 3664, 3670, 3679, 3691, 3692, 3728, 3732, 3754, 3757, 3769, 3773, 3788, 3809, 3824, 3830, 3836, 3838, 3839, 3841, 3849, 3851, 3852, 3870, 3878, 3879, 3881, 3887, 3907, 3921, 3922, 3923, 3924, 3926, 3927, 3928, 3931, 3936, 3953, 3981, 4003, 4028, 4070, 4085, 4089, 4094, 4102, 4103, 4116, 4118, 4152, 4158, 4161, 4164, 4170, 4171, 4172, 4173, 4174, 4178, 4182, 4197, 4202, 4207, 4211, 4245, 4248, 4274, 4291, 4295, 4322, 4326, 4336, 4341, 4350, 4355, 4378, 4394, 4403, 4419, 4422, 4464, 4480, 4517, 4518, 4554, 4572, 4573, 4574, 4575, 4577, 4598, 4639, 4641, 4646, 4647, 4648, 4700, 4722, 4731, 4735, 4736, 4737, 4754, 4775, 4787, 4813, 4818, 4822, 4863, 4881, 4893, 4902, 4940, 4941, 4955, 4956, 4963, 4973, 4979, 4995, 5003, 5004, 5008, 5009, 5027, 5030, 5031, 5044, 5047, 5060, 5067, 5078, 5079, 5117, 5131, 5132, 5133, 5135, 5136, 5138, 5144, 5145, 5164, 5165, 5174, 5175, 5176, 5189, 5202, 5216, 5228, 5239, 5321, 5326, 5329, 5336, 5351, 5358, 5370, 5382, 5400, 5403, 5421, 5480, 5481, 5648, 5649, 5661, 5668, 5687, 5704, 5710, 5729, 5739, 5740, 5756, 5826, 5834, 5860, 5863, 5884, 5982, 5983, 6005, 6012, 6050, 6054, 6062, 6074, 6075, 6080, 6099, 6100, 6141, 6148, 6170, 6184, 6241, 6281, 6282, 6283, 6284, 6285, 6286, 6287, 6288, 6289, 6290, 6291, 6292, 6293, 6296, 6297, 6298, 6300, 6302, 6303, 6305, 6308, 6309, 6310, 6311, 6312, 6313, 6314, 6316, 6321, 6322, 6326, 6351, 6360, 6363, 6365, 6380, 6400, 6401, 6403, 6436, 6468, 6500, 6508, 6509, 6538, 6539, 6540, 6561, 6628, 6691, 6716, 6717, 6721, 6732, 6733, 6741, 6764, 6785, 6801, 6805, 6820, 6837, 6839, 6847, 6871, 6906, 6911, 6957, 6960, 6964, 6981, 6985, 7040, 7042, 7062, 7092, 7120, 7154, 7160, 7161, 7184, 7186, 7187, 7216, 7229, 7241, 7242, 7298, 7313, 7333, 7334, 7335, 7344, 7388, 7406, 7407, 7412, 7435, 7440, 7455, 7458, 7460, 7462, 7469, 7477, 7479, 7495, 7512, 7541, 7552, 7563, 7574, 7576, 7585, 7602, 7634, 7646, 7649, 7668, 7680, 7689, 7696, 7700, 7701, 7703, 7710, 7728, 7740, 7753, 7766, 7778, 7779, 7781, 7792, 7793, 7794, 7799, 7802, 7806, 7811, 7835, 7839, 7840, 7856, 7862, 7869, 7874, 7900, 7903, 7912, 7926, 7937, 7939, 7941, 7971, 7978, 7983, 7984, 7990, 8008, 8023, 8035, 8040, 8054, 8061, 8069, 8094, 8096, 8112, 8125, 8132, 8134, 8138, 8153, 8161, 8168, 8172, 8199, 8212, 8230, 8246, 8258, 8263, 8271, 8288, 8304, 8345, 8346, 8347, 8365, 8367, 8376, 8377, 8413, 8415, 8419, 8420, 8428, 8437, 8457, 8490, 8499, 8515, 8521, 8522, 8552, 8561, 8576, 8587, 8589, 8614, 8630, 8650, 8657, 8658, 8679, 8722, 8729, 8741, 8756, 8776, 8786, 8805, 8814, 8830, 8832, 8833, 8834, 8835, 8836, 8837, 8848, 8849, 8850, 8866, 8869, 8892, 8906, 8930, 8941, 8984]\n"
          ],
          "name": "stdout"
        }
      ]
    },
    {
      "cell_type": "markdown",
      "metadata": {
        "id": "OTXCon_d25y9",
        "colab_type": "text"
      },
      "source": [
        "Check pattern"
      ]
    },
    {
      "cell_type": "code",
      "metadata": {
        "id": "JSSMwNvO25VF",
        "colab_type": "code",
        "colab": {}
      },
      "source": [
        "import pandas as pd\n",
        "\n",
        "df = pd.read_csv('qsar_oral_toxicity.csv', sep=';', header=None)\n",
        "\n",
        "pattern_negative = []\n",
        "pattern_positive = []\n",
        "\n",
        "\n",
        "for i in range(df.shape[0]):\n",
        "  tmp = list()\n",
        "  lst = list()\n",
        "  if df.iloc[i,1024] == 'negative':\n",
        "    tmp = df.iloc[i,:1023].to_list()\n",
        "    for j in range(len(tmp)):\n",
        "      if tmp[j] == 1:\n",
        "        lst.append(j)\n",
        "    pattern_negative.append((i,lst))\n",
        "  else:\n",
        "    tmp = df.iloc[i,:1023].to_list()\n",
        "    for j in range(len(tmp)):\n",
        "      if tmp[j] == 1:\n",
        "        lst.append(j)\n",
        "    pattern_positive.append((i,lst))\n",
        "\n",
        "#print(pattern_positive[1])\n",
        "#print(pattern_negative)\n",
        "\n",
        "l = []\n",
        "\n",
        "for i in pattern_positive:\n",
        "  for j in pattern_negative:\n",
        "    if len([w for w in j[1] if w in i[1]]) == len(i[1])  and len(i[1])==len(j[1]):\n",
        "      print(i,j,[w for w in i[1] if w not in j[1]])\n",
        "      l.append(i[0])\n",
        "      l.append(j[0])\n",
        "\n",
        "print(l)\n",
        "delete = np.unique(l)\n",
        "newDF = df.drop(index=delete)\n",
        "newDF.to_csv('qsar_oral_toxicity_reduce.csv')\n",
        "\n",
        "'''\n",
        "for i in pattern_positive:\n",
        "  for j in pattern_negative:\n",
        "    for k in range(1,6):\n",
        "      if len([w for w in j[1] if w in i[1]]) == len(i[1])-k  and len(i[1])==len(j[1]):\n",
        "        print(i[0],j[0],[w for w in i[1] if w not in j[1]])\n",
        "        l[k-1].append((i[0],[w for w in i[1] if w not in j[1]]))\n",
        "\n",
        "print(l)\n",
        "'''"
      ],
      "execution_count": null,
      "outputs": []
    },
    {
      "cell_type": "markdown",
      "metadata": {
        "id": "WMkpUM155Y2N",
        "colab_type": "text"
      },
      "source": [
        "Création de proba"
      ]
    },
    {
      "cell_type": "code",
      "metadata": {
        "id": "VzEu5CFnRQ7q",
        "colab_type": "code",
        "colab": {
          "base_uri": "https://localhost:8080/",
          "height": 232
        },
        "outputId": "876d7541-1f7e-48e8-8635-d6c2aaf6ea2b"
      },
      "source": [
        "import pandas as pd\n",
        "\n",
        "df = pd.read_csv('qsar_oral_toxicity.csv', sep=';', header=None)\n",
        "\n",
        "pattern_negative = []\n",
        "pattern_positive = []\n",
        "\n",
        "\n",
        "for i in range(df.shape[0]):\n",
        "  tmp = list()\n",
        "  lst = list()\n",
        "  if df.iloc[i,1024] == 'negative':\n",
        "    tmp = df.iloc[i,:1023].to_list()\n",
        "    for j in range(len(tmp)):\n",
        "      if tmp[j] == 1:\n",
        "        lst.append(j)\n",
        "    pattern_negative.append((i,lst))\n",
        "  else:\n",
        "    tmp = df.iloc[i,:1023].to_list()\n",
        "    for j in range(len(tmp)):\n",
        "      if tmp[j] == 1:\n",
        "        lst.append(j)\n",
        "    pattern_positive.append((i,lst))\n",
        "\n",
        "\n",
        "l = []\n",
        "\n",
        "\n",
        "for i in pattern_positive:\n",
        "  for j in pattern_negative:\n",
        "    for k in range(1,6):\n",
        "      if len([w for w in j[1] if w in i[1]]) == len(i[1]) and len(i[1])==len(j[1]):\n",
        "        l.append((i[0],j[0]))\n",
        "\n",
        "drop = [(i[0],0) for i in l]\n",
        "df['proba'] = [0 for i in range(df.shape[0])]\n",
        "\n",
        "delete = []\n",
        "for i in l:\n",
        "  for j in drop:\n",
        "    if i[0] == j[0]:\n",
        "      j[1] +=1\n",
        "      delete.append(i[1])\n",
        "\n",
        "for i in pattern_positive:\n",
        "  for j in pattern_positive:\n",
        "    if len([w for w in j[1] if w in i[1]]) == len(i[1]):\n",
        "      delete.append(j[0])\n",
        "\n",
        "for i in pattern_negative:\n",
        "  for j in pattern_negative:\n",
        "    if len([w for w in j[1] if w in i[1]]) == len(i[1]):\n",
        "      delete.append(j[0])\n",
        "\n",
        "delete = np.unique(delete)\n",
        "\n",
        "\n",
        "for i in range(df.shape[0]):\n",
        "  its = False\n",
        "  for j in drop:\n",
        "    if i == j[0]:\n",
        "      df.iloc[i,-1] == 1/(j[1]+1)\n",
        "      its = True\n",
        "  if its == False:\n",
        "    if df.iloc[i,1024] == 'positive':\n",
        "      df.iloc[i,-1] == 1\n",
        "    else:\n",
        "      df.iloc[i,-1] == 0\n",
        "\n",
        "\n",
        "\n",
        "df = df.drop(index=delete)\n",
        "\n",
        "\n",
        "\n",
        "df.to_csv('qsar_oral_toxicity_proba.csv')\n",
        "\n",
        "\n",
        "\n"
      ],
      "execution_count": null,
      "outputs": [
        {
          "output_type": "error",
          "ename": "TypeError",
          "evalue": "ignored",
          "traceback": [
            "\u001b[0;31m---------------------------------------------------------------------------\u001b[0m",
            "\u001b[0;31mTypeError\u001b[0m                                 Traceback (most recent call last)",
            "\u001b[0;32m<ipython-input-11-a9587a37f522>\u001b[0m in \u001b[0;36m<module>\u001b[0;34m()\u001b[0m\n\u001b[1;32m     40\u001b[0m   \u001b[0;32mfor\u001b[0m \u001b[0mj\u001b[0m \u001b[0;32min\u001b[0m \u001b[0mdrop\u001b[0m\u001b[0;34m:\u001b[0m\u001b[0;34m\u001b[0m\u001b[0;34m\u001b[0m\u001b[0m\n\u001b[1;32m     41\u001b[0m     \u001b[0;32mif\u001b[0m \u001b[0mi\u001b[0m\u001b[0;34m[\u001b[0m\u001b[0;36m0\u001b[0m\u001b[0;34m]\u001b[0m \u001b[0;34m==\u001b[0m \u001b[0mj\u001b[0m\u001b[0;34m[\u001b[0m\u001b[0;36m0\u001b[0m\u001b[0;34m]\u001b[0m\u001b[0;34m:\u001b[0m\u001b[0;34m\u001b[0m\u001b[0;34m\u001b[0m\u001b[0m\n\u001b[0;32m---> 42\u001b[0;31m       \u001b[0mj\u001b[0m\u001b[0;34m[\u001b[0m\u001b[0;36m1\u001b[0m\u001b[0;34m]\u001b[0m \u001b[0;34m+=\u001b[0m\u001b[0;36m1\u001b[0m\u001b[0;34m\u001b[0m\u001b[0;34m\u001b[0m\u001b[0m\n\u001b[0m\u001b[1;32m     43\u001b[0m       \u001b[0mdelete\u001b[0m\u001b[0;34m.\u001b[0m\u001b[0mappend\u001b[0m\u001b[0;34m(\u001b[0m\u001b[0mi\u001b[0m\u001b[0;34m[\u001b[0m\u001b[0;36m1\u001b[0m\u001b[0;34m]\u001b[0m\u001b[0;34m)\u001b[0m\u001b[0;34m\u001b[0m\u001b[0;34m\u001b[0m\u001b[0m\n\u001b[1;32m     44\u001b[0m \u001b[0;34m\u001b[0m\u001b[0m\n",
            "\u001b[0;31mTypeError\u001b[0m: 'tuple' object does not support item assignment"
          ]
        }
      ]
    },
    {
      "cell_type": "markdown",
      "metadata": {
        "id": "Vex6pgDP5emX",
        "colab_type": "text"
      },
      "source": [
        "Suppression"
      ]
    },
    {
      "cell_type": "code",
      "metadata": {
        "id": "lYQzp8sGdY7Y",
        "colab_type": "code",
        "colab": {}
      },
      "source": [
        "df = pd.read_csv('qsar_oral_toxicity.csv', sep=';', header=None)\n",
        "\n",
        "cov = np.cov(df.iloc[:,:-1])\n",
        "newDF = pd.DataFrame(data=cov)\n",
        "newDF.shape"
      ],
      "execution_count": null,
      "outputs": []
    },
    {
      "cell_type": "code",
      "metadata": {
        "id": "nS1_2Z7dCscn",
        "colab_type": "code",
        "colab": {}
      },
      "source": [
        "df = pd.read_csv('qsar_oral_toxicity_proba.csv', sep=',', header=1)\n",
        "print(df)\n",
        "df = df.drop(index=[0])\n",
        "print(df)"
      ],
      "execution_count": null,
      "outputs": []
    }
  ]
}